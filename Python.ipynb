{
  "nbformat": 4,
  "nbformat_minor": 0,
  "metadata": {
    "colab": {
      "provenance": []
    },
    "kernelspec": {
      "name": "python3",
      "display_name": "Python 3"
    },
    "language_info": {
      "name": "python"
    }
  },
  "cells": [
    {
      "cell_type": "code",
      "execution_count": null,
      "metadata": {
        "id": "aaAWfAsspyF9"
      },
      "outputs": [],
      "source": []
    },
    {
      "cell_type": "markdown",
      "source": [
        "1. What is Python, and why is it popular?\n",
        "\n",
        "\n",
        "Python is a high-level, interpreted, general-purpose programming language known for its clear syntax and readability.\n",
        "It’s popular because it’s easy to learn, has a huge library ecosystem, supports multiple programming paradigms (procedural, object-oriented, functional), and is widely used in areas like web development, data science, automation, and AI.\n"
      ],
      "metadata": {
        "id": "O1LbnksPp_Rh"
      }
    },
    {
      "cell_type": "markdown",
      "source": [
        "2. What is an interpreter in Python?\n",
        "\n",
        "\n",
        "An interpreter is a program that executes Python code line-by-line, translating it into machine code on the fly.\n",
        "It allows quick testing and debugging without needing compilation.\n"
      ],
      "metadata": {
        "id": "1DxDNV5gqEQB"
      }
    },
    {
      "cell_type": "markdown",
      "source": [
        "3. What are pre-defined keywords in Python?\n",
        "\n",
        "\n",
        "Pre-defined keywords are reserved words in Python with special meanings defined by the language (e.g., if, for, while, def).\n",
        "They cannot be used for variable names or identifiers."
      ],
      "metadata": {
        "id": "H-9hqub_qEc-"
      }
    },
    {
      "cell_type": "markdown",
      "source": [
        "4. Can keywords be used as variable names?\n",
        "\n",
        "\n",
        "No. Keywords are reserved, and using them as variable names will result in a syntax error.\n"
      ],
      "metadata": {
        "id": "CQx0_Sn7qEqR"
      }
    },
    {
      "cell_type": "markdown",
      "source": [
        "5. What is mutability in Python?\n",
        "\n",
        "\n",
        "Mutability refers to whether an object’s content can be changed after creation.\n",
        "Mutable objects can be modified in place; immutable ones cannot.\n",
        "\n"
      ],
      "metadata": {
        "id": "3x-a5DyeqE_2"
      }
    },
    {
      "cell_type": "markdown",
      "source": [
        "6. Why are lists mutable, but tuples are immutable?\n",
        "\n",
        "\n",
        "Lists are designed for dynamic collections where elements can be added, removed, or modified, so they are mutable.\n",
        "Tuples are meant for fixed data, so they are immutable to ensure reliability and hashability (usable as dictionary keys).\n",
        "\n"
      ],
      "metadata": {
        "id": "mdNsxvqSqF5V"
      }
    },
    {
      "cell_type": "markdown",
      "source": [
        "7. What is the difference between == and is operators in Python?\n",
        "\n",
        "== checks value equality (whether two objects have the same data).\n",
        "\n",
        "is checks identity (whether two references point to the same object in memory).\n",
        "\n"
      ],
      "metadata": {
        "id": "oIgG2gjpqGGX"
      }
    },
    {
      "cell_type": "markdown",
      "source": [
        "8. What are logical operators in Python?\n",
        "\n",
        "\n",
        "Logical operators are used to combine conditional statements:\n",
        "\n",
        "and → True if both conditions are True.\n",
        "\n",
        "or → True if at least one condition is True.\n",
        "\n",
        "not → Reverses the boolean value."
      ],
      "metadata": {
        "id": "2MneVIiiqGSE"
      }
    },
    {
      "cell_type": "markdown",
      "source": [
        "9. What is type casting in Python?\n",
        "\n",
        "\n",
        "Type casting is converting a value from one data type to another (e.g., string to int).\n",
        "\n"
      ],
      "metadata": {
        "id": "cN9NwBHUqGdl"
      }
    },
    {
      "cell_type": "markdown",
      "source": [
        "10. What is the difference between implicit and explicit type casting?\n",
        "\n",
        "Implicit casting (type coercion) is done automatically by Python when it’s safe (e.g., int to float).\n",
        "\n",
        "Explicit casting is done manually using functions like int(), float(), str().\n",
        "\n"
      ],
      "metadata": {
        "id": "ngroGQNgqGpW"
      }
    },
    {
      "cell_type": "markdown",
      "source": [
        "11. What is the purpose of conditional statements in Python?\n",
        "\n",
        "\n",
        "Conditional statements (if, elif, else) control the flow of execution based on conditions, allowing the program to make decisions.\n",
        "\n"
      ],
      "metadata": {
        "id": "22xPV7oSqGzY"
      }
    },
    {
      "cell_type": "markdown",
      "source": [
        "12. How does the elif statement work?\n",
        "\n",
        "\n",
        "elif (else if) allows checking multiple conditions sequentially after an initial if.\n",
        "Only the first matching condition is executed; the rest are skipped.\n",
        "\n"
      ],
      "metadata": {
        "id": "kDYfalmyqG94"
      }
    },
    {
      "cell_type": "markdown",
      "source": [
        "13. What is the difference between for and while loops?\n",
        "\n",
        "for loops iterate over a sequence or range with a known number of iterations.\n",
        "\n",
        "while loops repeat until a condition becomes False (used when the number of iterations isn’t fixed).\n",
        "\n"
      ],
      "metadata": {
        "id": "LmqRPIH6qHIK"
      }
    },
    {
      "cell_type": "markdown",
      "source": [
        "14. Describe a scenario where a while loop is more suitable than a for loop.\n",
        "\n",
        "\n",
        "When looping depends on a condition that’s not tied to a fixed range — e.g., reading user input until they type \"quit\" — a while loop is better."
      ],
      "metadata": {
        "id": "a7kIQXtgqHRn"
      }
    },
    {
      "cell_type": "code",
      "source": [
        "# Solution1\n",
        "print(\"Hello World!\")\n",
        "# This script prints \"Hello, World!\" to the console.\n"
      ],
      "metadata": {
        "colab": {
          "base_uri": "https://localhost:8080/"
        },
        "id": "T--mmYJ4rxVL",
        "outputId": "2d143cca-699a-4ab6-e39d-92ec8050244a"
      },
      "execution_count": 1,
      "outputs": [
        {
          "output_type": "stream",
          "name": "stdout",
          "text": [
            "Hello World!\n"
          ]
        }
      ]
    },
    {
      "cell_type": "code",
      "source": [
        "# Solution2\n",
        "name= \"Shreya\"\n",
        "age = 23\n",
        "print(\"Name:\", name)\n",
        "print(\"Age:\", age)"
      ],
      "metadata": {
        "colab": {
          "base_uri": "https://localhost:8080/"
        },
        "id": "3sh9yN0urxr_",
        "outputId": "739ebd0f-6e7e-4357-e6e0-feec3a9168ef"
      },
      "execution_count": 2,
      "outputs": [
        {
          "output_type": "stream",
          "name": "stdout",
          "text": [
            "Name: Shreya\n",
            "Age: 23\n"
          ]
        }
      ]
    },
    {
      "cell_type": "code",
      "source": [
        "#Solution3\n",
        "import keyword\n",
        "print(\"Python keywords:\")\n",
        "for kw in keyword.kwlist:\n",
        "    print(kw)\n",
        ""
      ],
      "metadata": {
        "colab": {
          "base_uri": "https://localhost:8080/"
        },
        "id": "z_iILGI-rx3Y",
        "outputId": "8fbe4edf-a79b-4e58-eec4-f5c42578e693"
      },
      "execution_count": 3,
      "outputs": [
        {
          "output_type": "stream",
          "name": "stdout",
          "text": [
            "Python keywords:\n",
            "False\n",
            "None\n",
            "True\n",
            "and\n",
            "as\n",
            "assert\n",
            "async\n",
            "await\n",
            "break\n",
            "class\n",
            "continue\n",
            "def\n",
            "del\n",
            "elif\n",
            "else\n",
            "except\n",
            "finally\n",
            "for\n",
            "from\n",
            "global\n",
            "if\n",
            "import\n",
            "in\n",
            "is\n",
            "lambda\n",
            "nonlocal\n",
            "not\n",
            "or\n",
            "pass\n",
            "raise\n",
            "return\n",
            "try\n",
            "while\n",
            "with\n",
            "yield\n"
          ]
        }
      ]
    },
    {
      "cell_type": "code",
      "source": [
        "#solution4\n",
        "import keyword\n",
        "word = input(\"Enter a word: \") # Prompt user for input #Example input: \"if\"\n",
        "if keyword.iskeyword(word):\n",
        "    print(f'\"{word}\" is a Python keyword.')\n",
        "else:\n",
        "    print(f'\"{word}\" is not a Python keyword.')"
      ],
      "metadata": {
        "colab": {
          "base_uri": "https://localhost:8080/"
        },
        "id": "URrwKLylsESs",
        "outputId": "644dd7f1-7fb4-42f9-b14e-baa44cd3ba79"
      },
      "execution_count": 18,
      "outputs": [
        {
          "output_type": "stream",
          "name": "stdout",
          "text": [
            "Enter a word: if\n",
            "\"if\" is a Python keyword.\n"
          ]
        }
      ]
    },
    {
      "cell_type": "code",
      "source": [
        "#Solution5\n",
        "# Creating a list and a tuple\n",
        "my_list = [1, 2, 3, 4, 5]\n",
        "my_tuple = (1, 2, 3, 4, 5)\n",
        "# Changing an element in the list (lists are mutable)\n",
        "my_list[0] = 10\n",
        "print(\"Modified List:\", my_list)\n",
        "# Attempting to change an element in the tuple (tuples are immutable)\n",
        "try:\n",
        "    my_tuple[0] = 10\n",
        "except TypeError as e:\n",
        "    print(\"Error when modifying tuple:\", e)\n"
      ],
      "metadata": {
        "colab": {
          "base_uri": "https://localhost:8080/"
        },
        "id": "8kw2vkIPryBJ",
        "outputId": "4329ce04-5147-4c51-eaf6-0bd0c0028c81"
      },
      "execution_count": 17,
      "outputs": [
        {
          "output_type": "stream",
          "name": "stdout",
          "text": [
            "Modified List: [10, 2, 3, 4, 5]\n",
            "Error when modifying tuple: 'tuple' object does not support item assignment\n"
          ]
        }
      ]
    },
    {
      "cell_type": "code",
      "source": [
        "#Solution6\n",
        "def modify_args(a_list, a_number):\n",
        "    a_list.append(100)\n",
        "    a_number += 10\n",
        "    print(\"Inside function - List:\", a_list)\n",
        "    print(\"Inside function - Number:\", a_number)\n",
        "\n",
        "my_list = [1, 2, 3] # Define my_list here\n",
        "my_number = 5\n",
        "print(\"Before function call - List:\", my_list)\n",
        "print(\"Before function call - Number:\", my_number)\n",
        "\n",
        "modify_args(my_list, my_number)\n",
        "\n",
        "print(\"After function call - List:\", my_list)\n",
        "print(\"After function call - Number:\", my_number)"
      ],
      "metadata": {
        "colab": {
          "base_uri": "https://localhost:8080/"
        },
        "id": "fO_2KbkwryMP",
        "outputId": "14507a91-1b5a-45c4-8f58-425f62651d1e"
      },
      "execution_count": 16,
      "outputs": [
        {
          "output_type": "stream",
          "name": "stdout",
          "text": [
            "Before function call - List: [1, 2, 3]\n",
            "Before function call - Number: 5\n",
            "Inside function - List: [1, 2, 3, 100]\n",
            "Inside function - Number: 15\n",
            "After function call - List: [1, 2, 3, 100]\n",
            "After function call - Number: 5\n"
          ]
        }
      ]
    },
    {
      "cell_type": "code",
      "source": [
        "#Solution7\n",
        "#program to perform basic arithmetic operations\n",
        "\n",
        "num1 = 10  # Define num1\n",
        "num2 = 5   # Define num2\n",
        "\n",
        "print(\"Sum:\", num1 + num2)\n",
        "print(\"Difference:\", num1 - num2)\n",
        "print(\"Product:\", num1 * num2)\n",
        "if num2 != 0:\n",
        "    print(\"Quotient:\", num1 / num2)\n",
        "else:\n",
        "    print(\"Cannot divide by zero\")"
      ],
      "metadata": {
        "colab": {
          "base_uri": "https://localhost:8080/"
        },
        "id": "swsJScFnryWh",
        "outputId": "ff7808d8-3a23-49d9-eb57-120e74f59d3b"
      },
      "execution_count": 14,
      "outputs": [
        {
          "output_type": "stream",
          "name": "stdout",
          "text": [
            "Sum: 15\n",
            "Difference: 5\n",
            "Product: 50\n",
            "Quotient: 2.0\n"
          ]
        }
      ]
    },
    {
      "cell_type": "code",
      "source": [
        "#Solution8\n",
        "# Program to demonstrate the use of logical operators\n",
        "a = True\n",
        "b = False\n",
        "\n",
        "print(\"a and b:\", a and b)  # Logical AND  #False\n",
        "print(\"a or b:\", a or b)    # Logical OR   #True\n",
        "print(\"not a:\", not a)      # Logical NOT  #False\n",
        "\n",
        "x = 10\n",
        "y = 5\n",
        "\n",
        "print(\"(x>5) and (y<10):\", (x > 5) and (y < 10))  # True\n",
        "print(\"(x<5) or (y>10):\", (x < 5) or (y < 10))    # True\n",
        "print(\"not(x==y):\", not (x == y))  # True"
      ],
      "metadata": {
        "colab": {
          "base_uri": "https://localhost:8080/"
        },
        "id": "2d94ytnpryg3",
        "outputId": "fcc30b0d-8236-4944-8816-56079dbebf5f"
      },
      "execution_count": 11,
      "outputs": [
        {
          "output_type": "stream",
          "name": "stdout",
          "text": [
            "a and b: False\n",
            "a or b: True\n",
            "not a: False\n",
            "(x>5) and (y<10): True\n",
            "(x<5) or (y>10): True\n",
            "not(x==y): True\n"
          ]
        }
      ]
    },
    {
      "cell_type": "code",
      "source": [
        "#Solution9\n",
        "\n",
        "#program to convert user input from string to integar, float, and boolean types\n",
        "\n",
        "user_input = input(\"Enter a value: \")\n",
        "\n",
        "#convert to integer\n",
        "try:\n",
        "    int_value = int(user_input)\n",
        "    print(\"Integer value:\", int_value)\n",
        "except ValueError:\n",
        "    print(\"Cannot convert to integer\")\n",
        "\n",
        "    #convert to float\n",
        "try:\n",
        "    float_value = float(user_input)\n",
        "    print(\"Float value:\", float_value)\n",
        "except ValueError:\n",
        "    print(\"Cannot convert to float\")\n",
        "\n",
        "#convert to boolean\n",
        "bool_value = user_input.lower() in ['true', '1', 'yes']\n",
        "print(\"Boolean value:\", bool_value)"
      ],
      "metadata": {
        "colab": {
          "base_uri": "https://localhost:8080/"
        },
        "id": "9zoywFW2ryqH",
        "outputId": "62f7bbf4-fa90-4aba-b441-9a93bcffbbba"
      },
      "execution_count": 10,
      "outputs": [
        {
          "output_type": "stream",
          "name": "stdout",
          "text": [
            "Enter a value: shreya22\n",
            "Cannot convert to integer\n",
            "Cannot convert to float\n",
            "Boolean value: False\n"
          ]
        }
      ]
    },
    {
      "cell_type": "code",
      "source": [
        "#Slution10\n",
        "\n",
        "#Demonstrate type casting with list elements\n",
        "\n",
        "str_list = ['1', '2', '3', '4.5', 'True', 'False']\n",
        "\n",
        "#Convert string numbers to integers(where possible)\n",
        "\n",
        "int_list = []\n",
        "for item in str_list:\n",
        "    try:\n",
        "        int_list.append(int(float(item)))\n",
        "    except ValueError:\n",
        "        int_list.append(None)\n",
        "print(\"Integer list:\", int_list)\n",
        "\n",
        "#Convert string numbers to floats(where possible)\n",
        "float_list = []\n",
        "for item in str_list:\n",
        "    try:\n",
        "        float_list.append(float(item))\n",
        "    except ValueError:\n",
        "        float_list.append(None)\n",
        "print(\"Float list:\", float_list)\n",
        "\n",
        "#Convert string values to booleans\n",
        "bool_list = [item.lower() in ['true', '1', 'yes'] for item in str_list]\n",
        "print(\"Boolean list:\", bool_list)"
      ],
      "metadata": {
        "colab": {
          "base_uri": "https://localhost:8080/"
        },
        "id": "CU3z-Ze3ryyx",
        "outputId": "10102f69-648f-454e-f372-de3a413409f4"
      },
      "execution_count": 9,
      "outputs": [
        {
          "output_type": "stream",
          "name": "stdout",
          "text": [
            "Integer list: [1, 2, 3, 4, None, None]\n",
            "Float list: [1.0, 2.0, 3.0, 4.5, None, None]\n",
            "Boolean list: [True, False, False, False, True, False]\n"
          ]
        }
      ]
    },
    {
      "cell_type": "code",
      "source": [
        "#Solution11\n",
        "# Program to check if a number is positive, negative, or zero\n",
        "\n",
        "num = float(input(\"Enter a number: \"))  # Example input: 5\n",
        "\n",
        "if num > 0:\n",
        "    print(\"The number is positive.\")\n",
        "elif num < 0:\n",
        "    print(\"The number is negative.\")\n",
        "else:\n",
        "    print(\"The number is zero.\")\n",
        "\n"
      ],
      "metadata": {
        "colab": {
          "base_uri": "https://localhost:8080/"
        },
        "id": "XyFSSI3gry8I",
        "outputId": "d69c4741-da78-4ce6-fe4b-08632a3e688e"
      },
      "execution_count": 8,
      "outputs": [
        {
          "output_type": "stream",
          "name": "stdout",
          "text": [
            "Enter a number: 5\n",
            "The number is positive.\n"
          ]
        }
      ]
    },
    {
      "cell_type": "code",
      "source": [
        "#Solution12\n",
        "\n",
        "# For loop to print the numbers from 1 to 10\n",
        "for i in range(1, 11):\n",
        "    print(i)\n"
      ],
      "metadata": {
        "colab": {
          "base_uri": "https://localhost:8080/"
        },
        "id": "wozUcKHwrzFm",
        "outputId": "f01ca609-9312-4bb0-eb2b-2f548e4f4278"
      },
      "execution_count": 7,
      "outputs": [
        {
          "output_type": "stream",
          "name": "stdout",
          "text": [
            "1\n",
            "2\n",
            "3\n",
            "4\n",
            "5\n",
            "6\n",
            "7\n",
            "8\n",
            "9\n",
            "10\n"
          ]
        }
      ]
    },
    {
      "cell_type": "code",
      "source": [
        "#Solution13\n",
        "\n",
        "# Program to find the sum of all even numbers between 1 to 50\n",
        "even_sum = 0\n",
        "for i in range(2, 51, 2):\n",
        "    even_sum += i\n",
        "\n",
        "print(\"Sum of all even numbers between 1 and 50:\", even_sum)"
      ],
      "metadata": {
        "colab": {
          "base_uri": "https://localhost:8080/"
        },
        "id": "HjTAoSTGsmEk",
        "outputId": "98616f3a-2873-4783-d515-eebc0abf36d5"
      },
      "execution_count": 6,
      "outputs": [
        {
          "output_type": "stream",
          "name": "stdout",
          "text": [
            "Sum of all even numbers between 1 and 50: 650\n"
          ]
        }
      ]
    },
    {
      "cell_type": "code",
      "source": [
        "#Solution14\n",
        "\n",
        "# Program to reverse a string using a while loop\n",
        "input_string = input(\"Enter a string to reverse: \")    #example input: \"Shreya omer\"\n",
        "reversed_string = \"\"\n",
        "index = len(input_string) - 1\n",
        "\n",
        "while index >= 0:\n",
        "    reversed_string += input_string[index]\n",
        "    index -= 1\n",
        "\n",
        "print(\"Reversed string:\", reversed_string)"
      ],
      "metadata": {
        "colab": {
          "base_uri": "https://localhost:8080/"
        },
        "id": "XVZ6l-2xrzPK",
        "outputId": "a9f3ea77-dff4-4ba7-f2ff-15b0701eeeb0"
      },
      "execution_count": 5,
      "outputs": [
        {
          "output_type": "stream",
          "name": "stdout",
          "text": [
            "Enter a string to reverse: shreya omer\n",
            "Reversed string: remo ayerhs\n"
          ]
        }
      ]
    },
    {
      "cell_type": "code",
      "source": [
        "#Solution15\n",
        "\n",
        "# Program to calculate the factorial of a number using a for loop\n",
        "\n",
        "num = int(input(\"Enter a number:\"))    #input is 45\n",
        "factorial = 1\n",
        "i = 1\n",
        "\n",
        "while i <= num:\n",
        "    factorial *= i\n",
        "    i += 1\n",
        "\n",
        "print(f\"The factorial of {num} is {factorial}\")"
      ],
      "metadata": {
        "colab": {
          "base_uri": "https://localhost:8080/"
        },
        "id": "9B3DzR7wrzY9",
        "outputId": "0f3fc3f5-9745-40a8-8962-645776dd0d6d"
      },
      "execution_count": 4,
      "outputs": [
        {
          "output_type": "stream",
          "name": "stdout",
          "text": [
            "Enter a number:45\n",
            "The factorial of 45 is 119622220865480194561963161495657715064383733760000000000\n"
          ]
        }
      ]
    }
  ]
}