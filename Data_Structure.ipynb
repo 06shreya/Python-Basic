{
  "nbformat": 4,
  "nbformat_minor": 0,
  "metadata": {
    "colab": {
      "provenance": []
    },
    "kernelspec": {
      "name": "python3",
      "display_name": "Python 3"
    },
    "language_info": {
      "name": "python"
    }
  },
  "cells": [
    {
      "cell_type": "code",
      "execution_count": null,
      "metadata": {
        "id": "a4E2RJX5-dDR"
      },
      "outputs": [],
      "source": []
    },
    {
      "cell_type": "markdown",
      "source": [
        "1. What are data structures, and why are they important?\n",
        "\n",
        "\n",
        "Data structures are ways of organizing, storing, and managing data so that it can be used efficiently. They are important because they make it easier to access, process, and modify data. Choosing the right data structure helps optimize time and memory, making programs faster and more efficient.\n",
        "\n",
        "\n",
        "2. Explain the difference between mutable and immutable data types with examples.\n",
        "\n",
        "\n",
        "Mutable: Can be changed after creation. Example: Lists in Python (my_list = [1,2,3]; you can modify elements).\n",
        "\n",
        "Immutable: Cannot be changed after creation. Example: Strings and tuples (my_string = \"hello\"; you cannot change a single character).\n",
        "\n",
        "\n",
        "3. What are the main differences between lists and tuples in Python?\n",
        "\n",
        "\n",
        "Lists: Mutable, defined with [ ], slower but flexible.\n",
        "\n",
        "Tuples: Immutable, defined with ( ), faster and memory-efficient, used for fixed data.\n",
        "\n",
        "\n",
        "4. Describe how dictionaries store data.\n",
        "\n",
        "\n",
        "Dictionaries store data as key-value pairs. Keys are unique and hashed, while values can be of any type. Example: {\"name\": \"Alice\", \"age\": 25}. Internally, Python uses a hash table for fast lookups.\n",
        "\n",
        "\n",
        "5. Why might you use a set instead of a list in Python?\n",
        "\n",
        "\n",
        "A set is used when you want:\n",
        "\n",
        "Unique elements (no duplicates).\n",
        "\n",
        "Faster membership tests (in is faster in sets than lists).\n",
        "\n",
        "Mathematical operations like union, intersection, difference.\n",
        "\n",
        "\n",
        "6. What is a string in Python, and how is it different from a list?\n",
        "\n",
        "\n",
        "A string is a sequence of characters enclosed in quotes. It is immutable, meaning you cannot change characters directly. A list, however, can hold multiple data types and is mutable.\n",
        "\n",
        "\n",
        "7. How do tuples ensure data integrity in Python?\n",
        "\n",
        "\n",
        "Because tuples are immutable, once created, their elements cannot be changed. This ensures the stored data remains constant and secure throughout execution.\n",
        "\n",
        "\n",
        "8. What is a hash table, and how does it relate to dictionaries in Python?\n",
        "\n",
        "\n",
        "A hash table is a data structure that stores data in an array-like format using hashing to map keys to indexes. Python dictionaries are implemented using hash tables, making lookups, insertions, and deletions very fast (average O(1) time).\n",
        "\n",
        "\n",
        "9. Can lists contain different data types in Python?\n",
        "\n",
        "\n",
        "Yes. A single list can store integers, strings, floats, and even other lists. Example: [1, \"hello\", 3.14, [5,6]].\n",
        "\n",
        "\n",
        "10. Explain why strings are immutable in Python.\n",
        "\n",
        "\n",
        "Strings are immutable to improve security, performance, and memory optimization. Since they are frequently used as keys in dictionaries, immutability ensures they don’t change unexpectedly.\n",
        "\n",
        "\n",
        "11. What advantages do dictionaries offer over lists for certain tasks?\n",
        "\n",
        "\n",
        "Faster lookups by key (O(1) on average).\n",
        "\n",
        "Easier to model real-world data with key-value relationships.\n",
        "\n",
        "No need to search the entire list for a value.\n",
        "\n",
        "\n",
        "12. Describe a scenario where using a tuple would be preferable over a list.\n",
        "\n",
        "\n",
        "When you need fixed data that should not be changed. Example: storing GPS coordinates (27.23, 78.02) or days of the week.\n",
        "\n",
        "\n",
        "13. How do sets handle duplicate values in Python?\n",
        "\n",
        "Sets automatically remove duplicate values. Example: {1,2,2,3} becomes {1,2,3}.\n",
        "\n",
        "\n",
        "14. How does the “in” keyword work differently for lists and dictionaries?\n",
        "\n",
        "\n",
        "For lists, in checks if a value exists in the list.\n",
        "\n",
        "For dictionaries, in checks only if a key exists, not the value.\n",
        "\n",
        "\n",
        "15. Can you modify the elements of a tuple? Explain why or why not.\n",
        "\n",
        "No. Tuples are immutable, so elements cannot be modified, added, or removed once created.\n",
        "\n",
        "\n",
        "16. What is a nested dictionary, and give an example of its use case.\n",
        "\n",
        "A nested dictionary is a dictionary inside another dictionary. Example:\n",
        "\n",
        "students = {\n",
        "  \"101\": {\"name\": \"Alice\", \"age\": 20},\n",
        "  \"102\": {\"name\": \"Bob\", \"age\": 22}\n",
        "}\n",
        "\n",
        "\n",
        "Use case: Storing structured data like student records, configurations, or JSON-like data.\n",
        "\n",
        "\n",
        "17. Describe the time complexity of accessing elements in a dictionary.\n",
        "\n",
        "Average case: O(1) (constant time).\n",
        "Worst case: O(n) (when hash collisions occur).\n",
        "\n",
        "\n",
        "18. In what situations are lists preferred over dictionaries?\n",
        "\n",
        "\n",
        "When order matters.\n",
        "\n",
        "When duplicate values are allowed.\n",
        "\n",
        "When you don’t need key-value mapping.\n",
        "\n",
        "Example: Maintaining a sequence of numbers [1,2,3,4].\n",
        "\n",
        "\n",
        "19. Why are dictionaries considered unordered, and how does that affect data retrieval?\n",
        "\n",
        "Before Python 3.7, dictionaries did not preserve insertion order. Keys are stored based on hash values, not sequence. While order is preserved now, retrieval is still based on keys, not positions, unlike lists.\n",
        "\n",
        "\n",
        "20. Explain the difference between a list and a dictionary in terms of data retrieval.\n",
        "\n",
        "\n",
        "List: Retrieved by index (position). Example: my_list[0].\n",
        "\n",
        "Dictionary: Retrieved by key. Example: my_dict[\"name\"]."
      ],
      "metadata": {
        "id": "y7ytov-7-iYW"
      }
    },
    {
      "cell_type": "code",
      "source": [
        "#Solution 1\n",
        "#create a string with your name and print it\n",
        "name = \"Shreya omer\"\n",
        "print(name)\n"
      ],
      "metadata": {
        "colab": {
          "base_uri": "https://localhost:8080/"
        },
        "id": "AO8L80jz_tag",
        "outputId": "9b4a65e0-0c46-4727-fd3a-a449b3d62ddc"
      },
      "execution_count": 15,
      "outputs": [
        {
          "output_type": "stream",
          "name": "stdout",
          "text": [
            "Shreya omer\n"
          ]
        }
      ]
    },
    {
      "cell_type": "code",
      "source": [
        "#Solution 2\n",
        "# Find the length of the string \"Hello World\"\n",
        "text = \"Hello World\"\n",
        "length = len(text)\n",
        "print(\"Length of the string:\", length)"
      ],
      "metadata": {
        "colab": {
          "base_uri": "https://localhost:8080/"
        },
        "id": "ZwMPCeVIIkMg",
        "outputId": "f6771235-32b0-4828-f6bc-65321a3799c4"
      },
      "execution_count": 16,
      "outputs": [
        {
          "output_type": "stream",
          "name": "stdout",
          "text": [
            "Length of the string: 11\n"
          ]
        }
      ]
    },
    {
      "cell_type": "code",
      "source": [
        "#Solution 3\n",
        "# Slice the first 3 characters from the string \"Python Programming\"\n",
        "text = \"Python Programming\"\n",
        "first_three = text[:3]\n",
        "print(\"First 3 characters:\", first_three)"
      ],
      "metadata": {
        "colab": {
          "base_uri": "https://localhost:8080/"
        },
        "id": "zlPC2HO8Ikdg",
        "outputId": "729077dd-43ee-4464-f310-0bbba0f0d39b"
      },
      "execution_count": 17,
      "outputs": [
        {
          "output_type": "stream",
          "name": "stdout",
          "text": [
            "First 3 characters: Pyt\n"
          ]
        }
      ]
    },
    {
      "cell_type": "code",
      "source": [
        "#Solution 4\n",
        "# Convert the string \"hello\" to uppercase\n",
        "text = \"hello\"\n",
        "uppercase_text = text.upper()\n",
        "print(\"Uppercase:\", uppercase_text)"
      ],
      "metadata": {
        "colab": {
          "base_uri": "https://localhost:8080/"
        },
        "id": "vE-cFzuKIkrV",
        "outputId": "32e715b2-928d-4e29-8b9d-b0639f5ce48d"
      },
      "execution_count": 7,
      "outputs": [
        {
          "output_type": "stream",
          "name": "stdout",
          "text": [
            "Uppercase: HELLO\n"
          ]
        }
      ]
    },
    {
      "cell_type": "code",
      "source": [
        "#Solution 5\n",
        "# Replace the word \"apple\" with \"orange\" in the string \"I like apple\"\n",
        "text = \"I like apple\"\n",
        "new_text = text.replace(\"apple\", \"orange\")\n",
        "print(new_text)"
      ],
      "metadata": {
        "colab": {
          "base_uri": "https://localhost:8080/"
        },
        "id": "7lSI2DX9IlEh",
        "outputId": "be255378-d501-4306-88b5-8b7813333809"
      },
      "execution_count": 18,
      "outputs": [
        {
          "output_type": "stream",
          "name": "stdout",
          "text": [
            "I like orange\n"
          ]
        }
      ]
    },
    {
      "cell_type": "code",
      "source": [
        "#Solution 6\n",
        "# Create a list with numbers 1 to 5 and print it\n",
        "numbers = [1, 2, 3, 4, 5]\n",
        "print(numbers)"
      ],
      "metadata": {
        "colab": {
          "base_uri": "https://localhost:8080/"
        },
        "id": "8LSR4fXpIlYM",
        "outputId": "9b6a854e-825d-4deb-ddf4-8e4fb964c5e4"
      },
      "execution_count": 9,
      "outputs": [
        {
          "output_type": "stream",
          "name": "stdout",
          "text": [
            "[1, 2, 3, 4, 5]\n"
          ]
        }
      ]
    },
    {
      "cell_type": "code",
      "source": [
        "#Solution 7\n",
        "# Append the number 10 to the list [1, 2, 3, 4]\n",
        "numbers = [1, 2, 3, 4]\n",
        "numbers.append(10)\n",
        "print(numbers)"
      ],
      "metadata": {
        "colab": {
          "base_uri": "https://localhost:8080/"
        },
        "id": "KHUxw40YImJ1",
        "outputId": "ecbfc5b4-4f51-4703-846a-23688f8fda95"
      },
      "execution_count": 10,
      "outputs": [
        {
          "output_type": "stream",
          "name": "stdout",
          "text": [
            "[1, 2, 3, 4, 10]\n"
          ]
        }
      ]
    },
    {
      "cell_type": "code",
      "source": [
        "#Solution 8\n",
        "# Remove the number 3 from the list [1, 2, 3, 4, 5]\n",
        "numbers = [1, 2, 3, 4, 5]\n",
        "numbers.remove(3)\n",
        "print(numbers)"
      ],
      "metadata": {
        "colab": {
          "base_uri": "https://localhost:8080/"
        },
        "id": "JhfEJtbDJH_Y",
        "outputId": "5af3a042-5bf7-49c9-f74f-ad56f5694e85"
      },
      "execution_count": 12,
      "outputs": [
        {
          "output_type": "stream",
          "name": "stdout",
          "text": [
            "[1, 2, 4, 5]\n"
          ]
        }
      ]
    },
    {
      "cell_type": "markdown",
      "source": [],
      "metadata": {
        "id": "NP1yPO16-qOq"
      }
    },
    {
      "cell_type": "code",
      "metadata": {
        "colab": {
          "base_uri": "https://localhost:8080/"
        },
        "id": "0c203fb4",
        "outputId": "5c6e5122-97f2-4404-dbb8-9f16f0350b15"
      },
      "source": [
        "#Solution 9\n",
        "# Access the second element in the list ['a', 'b', 'c', 'd']\n",
        "my_list = ['a', 'b', 'c', 'd']\n",
        "second_element = my_list[1]\n",
        "print(\"The second element is:\", second_element)"
      ],
      "execution_count": 14,
      "outputs": [
        {
          "output_type": "stream",
          "name": "stdout",
          "text": [
            "The second element is: b\n"
          ]
        }
      ]
    },
    {
      "cell_type": "code",
      "source": [
        "# Solution 10\n",
        "# Reverse the list [10, 20, 30, 40, 50]\n",
        "my_list = [10, 20, 30, 40, 50]\n",
        "my_list.reverse()\n",
        "print(my_list)"
      ],
      "metadata": {
        "colab": {
          "base_uri": "https://localhost:8080/"
        },
        "id": "cw86yOyYKOGB",
        "outputId": "683a6859-7d66-46ba-c294-62ad94338f39"
      },
      "execution_count": 19,
      "outputs": [
        {
          "output_type": "stream",
          "name": "stdout",
          "text": [
            "[50, 40, 30, 20, 10]\n"
          ]
        }
      ]
    },
    {
      "cell_type": "code",
      "source": [
        "# Solution 11\n",
        "# Create a tuple with the elements 100, 200, 300 and print it\n",
        "my_tuple = (100, 200, 300)\n",
        "print(my_tuple)"
      ],
      "metadata": {
        "colab": {
          "base_uri": "https://localhost:8080/"
        },
        "id": "U5X14tkaKOR9",
        "outputId": "b3a53403-a896-4fcd-c2d1-0eb4db087084"
      },
      "execution_count": 20,
      "outputs": [
        {
          "output_type": "stream",
          "name": "stdout",
          "text": [
            "(100, 200, 300)\n"
          ]
        }
      ]
    },
    {
      "cell_type": "code",
      "source": [
        "# Solution 12\n",
        "# Access the second-to-last element of the tuple ('red', 'green', 'blue', 'yellow')\n",
        "my_tuple = ('red', 'green', 'blue', 'yellow')\n",
        "second_to_last = my_tuple[-2]\n",
        "print(\"The second-to-last element is:\", second_to_last)"
      ],
      "metadata": {
        "colab": {
          "base_uri": "https://localhost:8080/"
        },
        "id": "l6TgLFd3KOfR",
        "outputId": "91b39a01-f327-4927-b5a7-6126d724ed94"
      },
      "execution_count": 21,
      "outputs": [
        {
          "output_type": "stream",
          "name": "stdout",
          "text": [
            "The second-to-last element is: blue\n"
          ]
        }
      ]
    },
    {
      "cell_type": "code",
      "source": [
        "# Solution 13\n",
        "# Find the minimum number in the tuple (10, 20, 5, 15)\n",
        "my_tuple = (10, 20, 5, 15)\n",
        "minimum_number = min(my_tuple)\n",
        "print(\"The minimum number is:\", minimum_number)"
      ],
      "metadata": {
        "colab": {
          "base_uri": "https://localhost:8080/"
        },
        "id": "tKWrQFwxKOri",
        "outputId": "c8226607-6067-4a3b-d250-b45543c3de66"
      },
      "execution_count": 22,
      "outputs": [
        {
          "output_type": "stream",
          "name": "stdout",
          "text": [
            "The minimum number is: 5\n"
          ]
        }
      ]
    },
    {
      "cell_type": "code",
      "metadata": {
        "colab": {
          "base_uri": "https://localhost:8080/"
        },
        "id": "9cfd9522",
        "outputId": "33b31433-cb7c-4517-a5d8-f85bb92947ec"
      },
      "source": [
        "# Solution 14\n",
        "# Find the index of the element \"cat\" in the tuple ('dog', 'cat', 'rabbit')\n",
        "my_tuple = ('dog', 'cat', 'rabbit')\n",
        "index_of_cat = my_tuple.index('cat')\n",
        "print(\"The index of 'cat' is:\", index_of_cat)"
      ],
      "execution_count": 23,
      "outputs": [
        {
          "output_type": "stream",
          "name": "stdout",
          "text": [
            "The index of 'cat' is: 1\n"
          ]
        }
      ]
    },
    {
      "cell_type": "code",
      "metadata": {
        "colab": {
          "base_uri": "https://localhost:8080/"
        },
        "id": "f4d068c0",
        "outputId": "95e28292-0b24-4576-8cc6-7944881ad6ff"
      },
      "source": [
        "# Solution 15\n",
        "# Create a tuple containing three different fruits and check if \"kiwi\" is in it\n",
        "fruits = ('apple', 'banana', 'orange')\n",
        "if \"kiwi\" in fruits:\n",
        "  print(\"Kiwi is in the tuple.\")\n",
        "else:\n",
        "  print(\"Kiwi is not in the tuple.\")"
      ],
      "execution_count": 24,
      "outputs": [
        {
          "output_type": "stream",
          "name": "stdout",
          "text": [
            "Kiwi is not in the tuple.\n"
          ]
        }
      ]
    },
    {
      "cell_type": "code",
      "metadata": {
        "colab": {
          "base_uri": "https://localhost:8080/"
        },
        "id": "dc47b322",
        "outputId": "e7192f5d-b2ef-4d9d-d941-b61a98ca0e7b"
      },
      "source": [
        "# Solution 16\n",
        "# Create a set with the elements 'a', 'b', 'c' and print it\n",
        "my_set = {'a', 'b', 'c'}\n",
        "print(my_set)"
      ],
      "execution_count": 25,
      "outputs": [
        {
          "output_type": "stream",
          "name": "stdout",
          "text": [
            "{'a', 'b', 'c'}\n"
          ]
        }
      ]
    },
    {
      "cell_type": "code",
      "metadata": {
        "colab": {
          "base_uri": "https://localhost:8080/"
        },
        "id": "b7525c67",
        "outputId": "7390ed51-d1a7-428b-d802-fe137b4b5900"
      },
      "source": [
        "# Solution 17\n",
        "# Write a code to clear all elements from the set {1, 2, 3, 4, 5}\n",
        "my_set = {1, 2, 3, 4, 5}\n",
        "my_set.clear()\n",
        "print(my_set)"
      ],
      "execution_count": 26,
      "outputs": [
        {
          "output_type": "stream",
          "name": "stdout",
          "text": [
            "set()\n"
          ]
        }
      ]
    },
    {
      "cell_type": "code",
      "metadata": {
        "colab": {
          "base_uri": "https://localhost:8080/"
        },
        "id": "7caa6f5f",
        "outputId": "fb313618-357e-44de-f0ae-8a766a860a99"
      },
      "source": [
        "# Solution 18\n",
        "# Write a code to remove the element 4 from the set {1, 2, 3, 4}\n",
        "my_set = {1, 2, 3, 4}\n",
        "my_set.remove(4)\n",
        "print(my_set)"
      ],
      "execution_count": 27,
      "outputs": [
        {
          "output_type": "stream",
          "name": "stdout",
          "text": [
            "{1, 2, 3}\n"
          ]
        }
      ]
    },
    {
      "cell_type": "code",
      "metadata": {
        "colab": {
          "base_uri": "https://localhost:8080/"
        },
        "id": "103e20cc",
        "outputId": "b9bb25ca-0474-4f4e-9f4e-07423f9e0f30"
      },
      "source": [
        "# Solution 19\n",
        "# Write a code to find the union of two sets {1, 2, 3} and {3, 4, 5}\n",
        "set1 = {1, 2, 3}\n",
        "set2 = {3, 4, 5}\n",
        "union_set = set1.union(set2)\n",
        "# Alternatively, you can use the '|' operator: union_set = set1 | set2\n",
        "print(\"The union of the two sets is:\", union_set)"
      ],
      "execution_count": 28,
      "outputs": [
        {
          "output_type": "stream",
          "name": "stdout",
          "text": [
            "The union of the two sets is: {1, 2, 3, 4, 5}\n"
          ]
        }
      ]
    },
    {
      "cell_type": "code",
      "metadata": {
        "colab": {
          "base_uri": "https://localhost:8080/"
        },
        "id": "782e8c39",
        "outputId": "7104f61e-ef67-4985-d164-1b48761a5624"
      },
      "source": [
        "# Solution 20\n",
        "# Write a code to find the intersection of two sets {1, 2, 3} and {2, 3, 4}\n",
        "set1 = {1, 2, 3}\n",
        "set2 = {2, 3, 4}\n",
        "intersection_set = set1.intersection(set2)\n",
        "# Alternatively, you can use the '&' operator: intersection_set = set1 & set2\n",
        "print(\"The intersection of the two sets is:\", intersection_set)"
      ],
      "execution_count": 29,
      "outputs": [
        {
          "output_type": "stream",
          "name": "stdout",
          "text": [
            "The intersection of the two sets is: {2, 3}\n"
          ]
        }
      ]
    },
    {
      "cell_type": "code",
      "metadata": {
        "colab": {
          "base_uri": "https://localhost:8080/"
        },
        "id": "7f3d768b",
        "outputId": "64b893d6-3d4d-4732-d0d1-6c2998f039e5"
      },
      "source": [
        "# Solution 21\n",
        "# Write a code to create a dictionary with the keys \"name\", \"age\", and \"city\", and print it\n",
        "my_dict = {\n",
        "    \"name\": \"Alice\",\n",
        "    \"age\": 30,\n",
        "    \"city\": \"New York\"\n",
        "}\n",
        "print(my_dict)"
      ],
      "execution_count": 30,
      "outputs": [
        {
          "output_type": "stream",
          "name": "stdout",
          "text": [
            "{'name': 'Alice', 'age': 30, 'city': 'New York'}\n"
          ]
        }
      ]
    },
    {
      "cell_type": "code",
      "metadata": {
        "colab": {
          "base_uri": "https://localhost:8080/"
        },
        "id": "3ec5bdd4",
        "outputId": "1be7921a-8a59-494c-b86f-584be4a4a795"
      },
      "source": [
        "# Solution 22\n",
        "# Write a code to add a new key-value pair \"country\": \"USA\" to the dictionary {'name': 'John', 'age': 25}\n",
        "my_dict = {'name': 'John', 'age': 25}\n",
        "my_dict[\"country\"] = \"USA\"\n",
        "print(my_dict)"
      ],
      "execution_count": 31,
      "outputs": [
        {
          "output_type": "stream",
          "name": "stdout",
          "text": [
            "{'name': 'John', 'age': 25, 'country': 'USA'}\n"
          ]
        }
      ]
    },
    {
      "cell_type": "code",
      "metadata": {
        "colab": {
          "base_uri": "https://localhost:8080/"
        },
        "id": "6bc51906",
        "outputId": "2ceb8a4c-71cf-4f5b-936a-67d734c8444e"
      },
      "source": [
        "# Solution 23\n",
        "# Write a code to access the value associated with the key \"name\" in the dictionary {'name': 'Alice', 'age': 30}\n",
        "my_dict = {'name': 'Alice', 'age': 30}\n",
        "name_value = my_dict[\"name\"]\n",
        "# Alternatively, you can use the get() method: name_value = my_dict.get(\"name\")\n",
        "print(\"The value associated with 'name' is:\", name_value)"
      ],
      "execution_count": 32,
      "outputs": [
        {
          "output_type": "stream",
          "name": "stdout",
          "text": [
            "The value associated with 'name' is: Alice\n"
          ]
        }
      ]
    },
    {
      "cell_type": "code",
      "metadata": {
        "colab": {
          "base_uri": "https://localhost:8080/"
        },
        "id": "307a194f",
        "outputId": "85e0411c-e432-41b6-8128-f68ed775a43a"
      },
      "source": [
        "# Solution 24\n",
        "# Write a code to remove the key \"age\" from the dictionary {'name': 'Bob', 'age': 22, 'city': 'New York'}\n",
        "my_dict = {'name': 'Bob', 'age': 22, 'city': 'New York'}\n",
        "del my_dict[\"age\"]\n",
        "# Alternatively, you can use the pop() method: my_dict.pop(\"age\")\n",
        "print(my_dict)"
      ],
      "execution_count": 33,
      "outputs": [
        {
          "output_type": "stream",
          "name": "stdout",
          "text": [
            "{'name': 'Bob', 'city': 'New York'}\n"
          ]
        }
      ]
    },
    {
      "cell_type": "code",
      "metadata": {
        "colab": {
          "base_uri": "https://localhost:8080/"
        },
        "id": "0b03d2a9",
        "outputId": "720fec9c-434f-4ad0-b05b-9ed37a8d0966"
      },
      "source": [
        "# Solution 25\n",
        "# Write a code to check if the key \"city\" exists in the dictionary {'name': 'Alice', 'city': 'Paris'}\n",
        "my_dict = {'name': 'Alice', 'city': 'Paris'}\n",
        "if \"city\" in my_dict:\n",
        "  print(\"The key 'city' exists in the dictionary.\")\n",
        "else:\n",
        "  print(\"The key 'city' does not exist in the dictionary.\")"
      ],
      "execution_count": 34,
      "outputs": [
        {
          "output_type": "stream",
          "name": "stdout",
          "text": [
            "The key 'city' exists in the dictionary.\n"
          ]
        }
      ]
    },
    {
      "cell_type": "code",
      "metadata": {
        "colab": {
          "base_uri": "https://localhost:8080/"
        },
        "id": "32d99951",
        "outputId": "e11828c5-19b8-43a9-ceb6-599c4388a09c"
      },
      "source": [
        "# Solution 26\n",
        "# Write a code to create a list, a tuple, and a dictionary, and print them all\n",
        "my_list = [1, 2, 3, 4]\n",
        "my_tuple = ('a', 'b', 'c')\n",
        "my_dict = {'key1': 'value1', 'key2': 'value2'}\n",
        "\n",
        "print(\"List:\", my_list)\n",
        "print(\"Tuple:\", my_tuple)\n",
        "print(\"Dictionary:\", my_dict)"
      ],
      "execution_count": 35,
      "outputs": [
        {
          "output_type": "stream",
          "name": "stdout",
          "text": [
            "List: [1, 2, 3, 4]\n",
            "Tuple: ('a', 'b', 'c')\n",
            "Dictionary: {'key1': 'value1', 'key2': 'value2'}\n"
          ]
        }
      ]
    },
    {
      "cell_type": "code",
      "metadata": {
        "colab": {
          "base_uri": "https://localhost:8080/"
        },
        "id": "9d35dbcd",
        "outputId": "77c22f21-f654-4706-d3bc-56194579f7e7"
      },
      "source": [
        "# Solution 27\n",
        "# Write a code to create a list of 5 random numbers between 1 and 100, sort it in ascending order, and print the result\n",
        "import random\n",
        "\n",
        "random_numbers = [random.randint(1, 100) for _ in range(5)]\n",
        "random_numbers.sort()\n",
        "print(\"Sorted list of random numbers:\", random_numbers)"
      ],
      "execution_count": 36,
      "outputs": [
        {
          "output_type": "stream",
          "name": "stdout",
          "text": [
            "Sorted list of random numbers: [17, 41, 60, 70, 73]\n"
          ]
        }
      ]
    },
    {
      "cell_type": "code",
      "metadata": {
        "colab": {
          "base_uri": "https://localhost:8080/"
        },
        "id": "bc20f1f6",
        "outputId": "27d9f84b-e23b-4867-8dfa-92751d2b9be1"
      },
      "source": [
        "# Solution 28\n",
        "# Write a code to create a list with strings and print the element at the third index\n",
        "my_list = [\"apple\", \"banana\", \"cherry\", \"date\", \"elderberry\"]\n",
        "print(\"The element at the third index is:\", my_list[3])"
      ],
      "execution_count": 37,
      "outputs": [
        {
          "output_type": "stream",
          "name": "stdout",
          "text": [
            "The element at the third index is: date\n"
          ]
        }
      ]
    },
    {
      "cell_type": "code",
      "metadata": {
        "colab": {
          "base_uri": "https://localhost:8080/"
        },
        "id": "0bf02e77",
        "outputId": "e5403979-12e7-44db-9d68-a8a40a58ca7b"
      },
      "source": [
        "# Solution 29\n",
        "# Write a code to combine two dictionaries into one and print the result\n",
        "dict1 = {'a': 1, 'b': 2}\n",
        "dict2 = {'c': 3, 'd': 4}\n",
        "\n",
        "# Using the update() method\n",
        "combined_dict_update = dict1.copy()  # Create a copy to avoid modifying the original dict1\n",
        "combined_dict_update.update(dict2)\n",
        "print(\"Combined dictionary (using update()):\", combined_dict_update)\n",
        "\n",
        "# Using the ** operator (for Python 3.5+)\n",
        "combined_dict_unpack = {**dict1, **dict2}\n",
        "print(\"Combined dictionary (using ** operator):\", combined_dict_unpack)"
      ],
      "execution_count": 38,
      "outputs": [
        {
          "output_type": "stream",
          "name": "stdout",
          "text": [
            "Combined dictionary (using update()): {'a': 1, 'b': 2, 'c': 3, 'd': 4}\n",
            "Combined dictionary (using ** operator): {'a': 1, 'b': 2, 'c': 3, 'd': 4}\n"
          ]
        }
      ]
    },
    {
      "cell_type": "code",
      "metadata": {
        "colab": {
          "base_uri": "https://localhost:8080/"
        },
        "id": "9984bdf7",
        "outputId": "7685dd71-50d6-4e79-db11-3c17006263ae"
      },
      "source": [
        "# Solution 30\n",
        "# Write a code to convert a list of strings into a set\n",
        "my_list = [\"apple\", \"banana\", \"cherry\", \"apple\"]\n",
        "my_set = set(my_list)\n",
        "print(my_set)"
      ],
      "execution_count": 39,
      "outputs": [
        {
          "output_type": "stream",
          "name": "stdout",
          "text": [
            "{'cherry', 'banana', 'apple'}\n"
          ]
        }
      ]
    }
  ]
}