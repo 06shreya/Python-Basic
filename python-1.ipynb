{
 "cells": [
  {
   "cell_type": "markdown",
   "id": "e06a2138",
   "metadata": {},
   "source": [
    "1. What is Python, and why is it popular?\n",

    "Python is a high-level, interpreted, general-purpose programming language known for its clear syntax and readability.\n",
    "It’s popular because it’s easy to learn, has a huge library ecosystem, supports multiple programming paradigms (procedural, object-oriented, functional), and is widely used in areas like web development, data science, automation, and AI.\n"
   ]
  },
  {
   "cell_type": "markdown",
   "id": "65a31a25",
   "metadata": {},
   "source": [
    "2. What is an interpreter in Python?\n",

    "An interpreter is a program that executes Python code line-by-line, translating it into machine code on the fly.\n",
    "It allows quick testing and debugging without needing compilation."
   ]
  },
  {
   "cell_type": "markdown",
   "id": "a2d0cfa0",
   "metadata": {},
   "source": [
    "3. What are pre-defined keywords in Python?\n",

    "Pre-defined keywords are reserved words in Python with special meanings defined by the language (e.g., if, for, while, def).\n",
    "They cannot be used for variable names or identifiers."
   ]
  },
  {
   "cell_type": "markdown",
   "id": "abd9a552",
   "metadata": {},
   "source": [
    "4. Can keywords be used as variable names?\n",

    "No. Keywords are reserved, and using them as variable names will result in a syntax error.\n"
   ]
  },
  {
   "cell_type": "markdown",
   "id": "90679125",
   "metadata": {},
   "source": [
    "5. What is mutability in Python?\n",

    "Mutability refers to whether an object’s content can be changed after creation.\n",
    "Mutable objects can be modified in place; immutable ones cannot.\n",
    "\n"
   ]
  },
  {
   "cell_type": "markdown",
   "id": "a8f26bb6",
   "metadata": {},
   "source": [
    "6. Why are lists mutable, but tuples are immutable?\n",

    "Lists are designed for dynamic collections where elements can be added, removed, or modified, so they are mutable.\n",
    "Tuples are meant for fixed data, so they are immutable to ensure reliability and hashability (usable as dictionary keys).\n",
    "\n"
   ]
  },
  {
   "cell_type": "markdown",
   "id": "9ea5f165",
   "metadata": {},
   "source": [
    "7. What is the difference between == and is operators in Python?\n",

    "\n",
    "== checks value equality (whether two objects have the same data).\n",
    "\n",
    "is checks identity (whether two references point to the same object in memory).\n",
    "\n"
   ]
  },
  {
   "cell_type": "markdown",
   "id": "4e264d62",
   "metadata": {},
   "source": [
    "8. What are logical operators in Python?\n",

    "Logical operators are used to combine conditional statements:\n",
    "\n",
    "and → True if both conditions are True.\n",
    "\n",
    "or → True if at least one condition is True.\n",
    "\n",
    "not → Reverses the boolean value."
   ]
  },
  {
   "cell_type": "markdown",
   "id": "cfe4a769",
   "metadata": {},
   "source": [
    "9. What is type casting in Python?\n",

    "Type casting is converting a value from one data type to another (e.g., string to int).\n",
    "\n"
   ]
  },
  {
   "cell_type": "markdown",
   "id": "782cdc1d",
   "metadata": {},
   "source": [
    "10. What is the difference between implicit and explicit type casting?\n",

    "\n",
    "Implicit casting (type coercion) is done automatically by Python when it’s safe (e.g., int to float).\n",
    "\n",
    "Explicit casting is done manually using functions like int(), float(), str().\n",
    "\n"
   ]
  },
  {
   "cell_type": "markdown",
   "id": "cea6698c",
   "metadata": {},
   "source": [
    "11. What is the purpose of conditional statements in Python?\n",
    "Conditional statements (if, elif, else) control the flow of execution based on conditions, allowing the program to make decisions.\n",
    "\n"
   ]
  },
  {
   "cell_type": "markdown",
   "id": "32ab595d",
   "metadata": {},
   "source": [
    "12. How does the elif statement work?\n",

    "elif (else if) allows checking multiple conditions sequentially after an initial if.\n",
    "Only the first matching condition is executed; the rest are skipped.\n",
    "\n"
   ]
  },
  {
   "cell_type": "markdown",
   "id": "9370be27",
   "metadata": {},
   "source": [
    "13. What is the difference between for and while loops?\n",
    "\n",

    "for loops iterate over a sequence or range with a known number of iterations.\n",
    "\n",
    "while loops repeat until a condition becomes False (used when the number of iterations isn’t fixed).\n",
    "\n"
   ]
  },
  {
   "cell_type": "markdown",
   "id": "fc45d21b",
   "metadata": {},
   "source": [
    "14. Describe a scenario where a while loop is more suitable than a for loop.\n",

    "When looping depends on a condition that’s not tied to a fixed range — e.g., reading user input until they type \"quit\" — a while loop is better."
   ]
  },
  {
   "cell_type": "code",
   "execution_count": null,
   "id": "7cb20358",
   "metadata": {},
   "outputs": [
    {
     "name": "stdout",
     "output_type": "stream",
     "text": [
      "Hello World!\n"
     ]
    }
   ],
   "source": [
    "# Solution1\n",
    "print(\"Hello World!\")\n",
    "# This script prints \"Hello, World!\" to the console.\n"
   ]
  },
  {
   "cell_type": "code",
   "execution_count": 23,
   "id": "ecda40a8",
   "metadata": {},
   "outputs": [
    {
     "name": "stdout",
     "output_type": "stream",
     "text": [
      "Name: Shreya\n",
      "Age: 23\n"
     ]
    }
   ],
   "source": [
    "# Solution2\n",
    "name= \"Shreya\"\n",
    "age = 23\n",
    "print(\"Name:\", name)\n",
    "print(\"Age:\", age)"
   ]
  },
  {
   "cell_type": "code",
   "execution_count": 24,
   "id": "04200074",
   "metadata": {},
   "outputs": [
    {
     "name": "stdout",
     "output_type": "stream",
     "text": [
      "Python keywords:\n",
      "False\n",
      "None\n",
      "True\n",
      "and\n",
      "as\n",
      "assert\n",
      "async\n",
      "await\n",
      "break\n",
      "class\n",
      "continue\n",
      "def\n",
      "del\n",
      "elif\n",
      "else\n",
      "except\n",
      "finally\n",
      "for\n",
      "from\n",
      "global\n",
      "if\n",
      "import\n",
      "in\n",
      "is\n",
      "lambda\n",
      "nonlocal\n",
      "not\n",
      "or\n",
      "pass\n",
      "raise\n",
      "return\n",
      "try\n",
      "while\n",
      "with\n",
      "yield\n"
     ]
    }
   ],
   "source": [
    "#Solution3\n",
    "import keyword\n",
    "print(\"Python keywords:\")\n",
    "for kw in keyword.kwlist:\n",
    "    print(kw)\n",
    "    "
   ]
  },
  {
   "cell_type": "code",
   "execution_count": 25,
   "id": "c4b8d6a5",
   "metadata": {},
   "outputs": [
    {
     "name": "stdout",
     "output_type": "stream",
     "text": [
      "\"\" is not a Python keyword.\n"
     ]
    }
   ],
   "source": [
    "#solution4\n",
    "import keyword\n",
    "word = input(\"Enter a word: \") # Prompt user for input\n",
    "if keyword.iskeyword(word):\n",
    "    print(f'\"{word}\" is a Python keyword.') \n",
    "else:\n",
    "    print(f'\"{word}\" is not a Python keyword.')"
   ]
  },
  {
   "cell_type": "code",
   "execution_count": 26,
   "id": "ef743ce2",
   "metadata": {},
   "outputs": [
    {
     "name": "stdout",
     "output_type": "stream",
     "text": [
      "Modified List: [10, 2, 3, 4, 5]\n",
      "Error when modifying tuple: 'tuple' object does not support item assignment\n"
     ]
    }
   ],
   "source": [
    "#Solution5\n",
    "# Creating a list and a tuple\n",
    "my_list = [1, 2, 3, 4, 5]\n",
    "my_tuple = (1, 2, 3, 4, 5)\n",
    "# Changing an element in the list (lists are mutable)\n",
    "my_list[0] = 10\n",
    "print(\"Modified List:\", my_list)\n",
    "# Attempting to change an element in the tuple (tuples are immutable)\n",
    "try:\n",
    "    my_tuple[0] = 10\n",
    "except TypeError as e:\n",
    "    print(\"Error when modifying tuple:\", e)\n"
   ]
  },
  {
   "cell_type": "code",
   "execution_count": 27,
   "id": "5fa3941c",
   "metadata": {},
   "outputs": [
    {
     "name": "stdout",
     "output_type": "stream",
     "text": [
      "Before function call - List: [10, 2, 3, 4, 5]\n",
      "Before function call - Number: 5\n",
      "Inside function - List: [10, 2, 3, 4, 5, 100]\n",
      "Inside function - Number: 15\n",
      "After function call - List: [10, 2, 3, 4, 5, 100]\n",
      "After function call - Number: 5\n"
     ]
    }
   ],
   "source": [
    "#Solution6\n",
    "def modify_args(a_list, a_number):\n",
    "    a_list.append(100)\n",
    "    a_number += 10\n",
    "    print(\"Inside function - List:\", a_list)\n",
    "    print(\"Inside function - Number:\", a_number) \n",
    "\n",
    "my_number = 5\n",
    "print(\"Before function call - List:\", my_list)\n",
    "print(\"Before function call - Number:\", my_number)\n",
    "\n",
    "modify_args(my_list, my_number)\n",
    "\n",
    "print(\"After function call - List:\", my_list)\n",
    "print(\"After function call - Number:\", my_number)"
   ]
  },
  {
   "cell_type": "code",
   "execution_count": 29,
   "id": "459e7be0",
   "metadata": {},
   "outputs": [
    {
     "name": "stdout",
     "output_type": "stream",
     "text": [
      "Sum: 88.0\n",
      "Difference: 0.0\n",
      "Product: 1936.0\n",
      "Quotient: 1.0\n"
     ]
    }
   ],
   "source": [
    "#Solution7\n",
    "#program to perform basic arithmetic operations\n",
    "\n",
    "# num1 and num2 are already defined in the notebook\n",
    "\n",
    "print(\"Sum:\", num1 + num2)\n",
    "print(\"Difference:\", num1 - num2)\n",
    "print(\"Product:\", num1 * num2)\n",
    "if num2 != 0:\n",
    "    print(\"Quotient:\", num1 / num2)\n",
    "else:\n",
    "    print(\"Cannot divide by zero\")\n",
    "    \n"
   ]
  },
  {
   "cell_type": "code",
   "execution_count": null,
   "id": "a2ba4f06",
   "metadata": {},
   "outputs": [
    {
     "name": "stdout",
     "output_type": "stream",
     "text": [
      "a and b: False\n",
      "a or b: True\n",
      "not a: False\n",
      "(x>5) and (y<10): True\n",
      "(x<5) or (y>10): True\n",
      "not(x==y): True\n"
     ]
    }
   ],
   "source": [
    "#Solution8\n",
    "# Program to demonstrate the use of logical operators\n",
    "a = True\n",
    "b = False\n",
    "\n",
    "print(\"a and b:\", a and b)  # Logical AND  #False\n",
    "print(\"a or b:\", a or b)    # Logical OR   #True\n",
    "print(\"not a:\", not a)      # Logical NOT  #False\n",
    "\n",
    "x = 10\n",
    "y = 5\n",
    "\n",
    "print(\"(x>5) and (y<10):\", (x > 5) and (y < 10))  # True\n",
    "print(\"(x<5) or (y>10):\", (x < 5) or (y < 10))    # True\n",
    "print(\"not(x==y):\", not (x == y))  # True"
   ]
  },
  {
   "cell_type": "code",
   "execution_count": null,
   "id": "f27a57f8",
   "metadata": {},
   "outputs": [
    {
     "name": "stdout",
     "output_type": "stream",
     "text": [
      "Cannot convert to integer\n",
      "Cannot convert to float\n",
      "Boolean value: False\n"
     ]
    }
   ],
   "source": [
    "#Solution9\n",
    "\n",
    "#program to convert user input from string to integar, float, and boolean types\n",
    "\n",
    "user_input = input(\"Enter a value: \")\n",
    "\n",
    "#convert to integer\n",
    "try:\n",
    "    int_value = int(user_input)\n",
    "    print(\"Integer value:\", int_value)\n",
    "except ValueError:\n",
    "    print(\"Cannot convert to integer\")\n",
    "\n",
    "    #convert to float\n",
    "try:\n",
    "    float_value = float(user_input)\n",
    "    print(\"Float value:\", float_value)\n",
    "except ValueError:\n",
    "    print(\"Cannot convert to float\")\n",
    "\n",
    "#convert to boolean\n",
    "bool_value = user_input.lower() in ['true', '1', 'yes']\n",
    "print(\"Boolean value:\", bool_value)"
   ]
  },
  {
   "cell_type": "code",
   "execution_count": null,
   "id": "316600e5",
   "metadata": {},
   "outputs": [
    {
     "name": "stdout",
     "output_type": "stream",
     "text": [
      "Integer list: [1, 2, 3, 4, None, None]\n",
      "Float list: [1.0, 2.0, 3.0, 4.5, None, None]\n",
      "Boolean list: [True, False, False, False, True, False]\n"
     ]
    }
   ],
   "source": [
    "#Slution10\n",
    "\n",
    "#Demonstrate type casting with list elements\n",
    "\n",
    "str_list = ['1', '2', '3', '4.5', 'True', 'False']\n",
    "\n",
    "#Convert string numbers to integers(where possible)\n",
    "\n",
    "int_list = []\n",
    "for item in str_list:\n",
    "    try:\n",
    "        int_list.append(int(float(item)))\n",
    "    except ValueError:\n",
    "        int_list.append(None)\n",
    "print(\"Integer list:\", int_list)\n",
    "\n",
    "#Convert string numbers to floats(where possible)\n",
    "float_list = []\n",
    "for item in str_list:\n",
    "    try:\n",
    "        float_list.append(float(item))\n",
    "    except ValueError:\n",
    "        float_list.append(None)\n",
    "print(\"Float list:\", float_list)\n",
    "\n",
    "#Convert string values to booleans\n",
    "bool_list = [item.lower() in ['true', '1', 'yes'] for item in str_list]\n",
    "print(\"Boolean list:\", bool_list)"
   ]
  },
  {
   "cell_type": "code",
   "execution_count": null,
   "id": "ac9e151f",
   "metadata": {},
   "outputs": [
    {
     "name": "stdout",
     "output_type": "stream",
     "text": [
      "The number is positive.\n"
     ]
    }
   ],
   "source": [
    "#Solution11\n",
    "# Program to check if a number is positive, negative, or zero\n",
    "\n",
    "num = float(input(\"Enter a number: \"))\n",
    "\n",
    "if num > 0:\n",
    "    print(\"The number is positive.\")\n",
    "elif num < 0:\n",
    "    print(\"The number is negative.\")\n",
    "else:\n",
    "    print(\"The number is zero.\")\n",
    "    \n"
   ]
  },
  {
   "cell_type": "code",
   "execution_count": null,
   "id": "23e1d440",
   "metadata": {},
   "outputs": [
    {
     "name": "stdout",
     "output_type": "stream",
     "text": [
      "1\n",
      "2\n",
      "3\n",
      "4\n",
      "5\n",
      "6\n",
      "7\n",
      "8\n",
      "9\n",
      "10\n"
     ]
    }
   ],
   "source": [
    "#Solution12\n",
    "\n",
    "# For loop to print the numbers from 1 to 10\n",
    "for i in range(1, 11):\n",
    "    print(i)\n"
   ]
  },
  {
   "cell_type": "code",
   "execution_count": null,
   "id": "099f185c",
   "metadata": {},
   "outputs": [
    {
     "name": "stdout",
     "output_type": "stream",
     "text": [
      "Sum of all even numbers between 1 and 50: 650\n"
     ]
    }
   ],
   "source": [
    "#Solution13\n",
    "\n",
    "# Program to find the sum of all even numbers between 1 to 50\n",
    "even_sum = 0\n",
    "for i in range(2, 51, 2):\n",
    "    even_sum += i   \n",
    "\n",
    "print(\"Sum of all even numbers between 1 and 50:\", even_sum)"
   ]
  },
  {
   "cell_type": "code",
   "execution_count": null,
   "id": "94c443d7",
   "metadata": {},
   "outputs": [
    {
     "name": "stdout",
     "output_type": "stream",
     "text": [
      "Reversed string: remo ayerhs\n"
     ]
    }
   ],
   "source": [
    "#Solution14\n",
    "\n",
    "# Program to reverse a string using a while loop\n",
    "input_string = input(\"Enter a string to reverse: \")\n",
    "reversed_string = \"\"\n",
    "index = len(input_string) - 1\n",
    "\n",
    "while index >= 0:\n",
    "    reversed_string += input_string[index]\n",
    "    index -= 1\n",
    "\n",
    "print(\"Reversed string:\", reversed_string)"
   ]
  },
  {
   "cell_type": "code",
   "execution_count": null,
   "id": "b2fa2fe6",
   "metadata": {},
   "outputs": [
    {
     "name": "stdout",
     "output_type": "stream",
     "text": [
      "The factorial of 45 is 119622220865480194561963161495657715064383733760000000000\n"
     ]
    }
   ],
   "source": [
    "#Solution15\n",
    "\n",
    "# Program to calculate the factorial of a number using a for loop\n",
    "\n",
    "num = int(input(\"Enter a number:\"))\n",
    "factorial = 1\n",
    "i = 1\n",
    "\n",
    "while i <= num:\n",
    "    factorial *= i\n",
    "    i += 1\n",
    "\n",
    "print(f\"The factorial of {num} is {factorial}\")"
   ]
  }
 ],
 "metadata": {
  "kernelspec": {
   "display_name": "Python 3",
   "language": "python",
   "name": "python3"
  },
  "language_info": {
   "codemirror_mode": {
    "name": "ipython",
    "version": 3
   },
   "file_extension": ".py",
   "mimetype": "text/x-python",
   "name": "python",
   "nbconvert_exporter": "python",
   "pygments_lexer": "ipython3",
   "version": "3.14.0rc1"
  }
 },
 "nbformat": 4,
 "nbformat_minor": 5
}
